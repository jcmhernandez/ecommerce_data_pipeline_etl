{
 "cells": [
  {
   "cell_type": "code",
   "execution_count": 67,
   "metadata": {},
   "outputs": [],
   "source": [
    "import psycopg2 as pg\n",
    "from psycopg2 import sql\n",
    "import configparser"
   ]
  },
  {
   "cell_type": "code",
   "execution_count": 68,
   "metadata": {},
   "outputs": [
    {
     "name": "stdout",
     "output_type": "stream",
     "text": [
      "All tables have been dropped.\n"
     ]
    }
   ],
   "source": [
    "# For lpms\n",
    "# Assuming the database is already created\n",
    "# Read the db credentials from the config file\n",
    "config = configparser.ConfigParser()\n",
    "config.read('db_config.ini')\n",
    "\n",
    "# Connect to the database\n",
    "conn = pg.connect(\n",
    "    dbname = 'etl_proj_lpms',\n",
    "    user = config['database']['user'],\n",
    "    password = config['database']['password'],\n",
    "    host = config['database']['host'],\n",
    "    port = config['database']['port']\n",
    ")\n",
    "\n",
    "# Create a cursor object\n",
    "cur = conn.cursor()\n",
    "\n",
    "# Get the list of all tables in the schema\n",
    "cur.execute(\"\"\"\n",
    "    SELECT table_name\n",
    "    FROM information_schema.tables\n",
    "    WHERE table_schema = 'public';\n",
    "\"\"\")\n",
    "tables = cur.fetchall()\n",
    "\n",
    "# Drop all tables in the schema\n",
    "for table in tables:\n",
    "    cur.execute(sql.SQL('DROP TABLE {} CASCADE;').format(sql.Identifier(table[0])))\n",
    "\n",
    "# Commit the changes\n",
    "conn.commit()\n",
    "\n",
    "print('All tables have been dropped.')\n"
   ]
  },
  {
   "cell_type": "code",
   "execution_count": 69,
   "metadata": {},
   "outputs": [
    {
     "name": "stdout",
     "output_type": "stream",
     "text": [
      "Tables created in the schema:\n",
      "listing\n",
      "item\n"
     ]
    }
   ],
   "source": [
    "# Create the tables\n",
    "# Ignoring primary and foreign keys for now\n",
    "cur.execute(\"\"\"\n",
    "    CREATE TABLE listing (\n",
    "        listing_id SERIAL,\n",
    "        shop_id INTEGER NOT NULL,\n",
    "        model_id INTEGER NOT NULL,\n",
    "        model_name VARCHAR(255) NOT NULL,\n",
    "        model_description TEXT,\n",
    "        category_lvl_1 VARCHAR(255) NOT NULL,\n",
    "        category_lvl_2 VARCHAR(255) NOT NULL,\n",
    "        create_time TIMESTAMP NOT NULL,\n",
    "        banned_time TIMESTAMP,\n",
    "        banned_by VARCHAR(255),\n",
    "        last_modified_time TIMESTAMP NOT NULL\n",
    "    );\n",
    "    \"\"\")\n",
    "cur.execute(\"\"\"\n",
    "    CREATE TABLE item (\n",
    "        sku_id SERIAL,\n",
    "        shop_id INTEGER NOT NULL,\n",
    "        listing_id INTEGER NOT NULL,\n",
    "        model_id INTEGER NOT NULL,\n",
    "        item_id VARCHAR(255) NOT NULL,\n",
    "        item_description TEXT,\n",
    "        stock_qty INTEGER NOT NULL,\n",
    "        weight DECIMAL(10, 2) NOT NULL,\n",
    "        length DECIMAL(10, 2) NOT NULL,\n",
    "        width DECIMAL(10, 2) NOT NULL,\n",
    "        height DECIMAL(10, 2) NOT NULL,\n",
    "        item_price DECIMAL(10, 2) NOT NULL,\n",
    "        is_active BOOLEAN NOT NULL,\n",
    "        create_time TIMESTAMP NOT NULL,\n",
    "        last_modified_time TIMESTAMP NOT NULL        \n",
    "    );\n",
    "    \"\"\")\n",
    "\n",
    "# Commit the changes\n",
    "conn.commit()\n",
    "\n",
    "# Check the tables\n",
    "cur.execute(\"\"\"\n",
    "    SELECT table_name\n",
    "    FROM information_schema.tables\n",
    "    WHERE table_schema = 'public';\n",
    "\"\"\")\n",
    "tables = cur.fetchall()\n",
    "print('Tables created in the schema:')\n",
    "for table in tables:\n",
    "    print(table[0])\n",
    "\n",
    "\n",
    "# # Close the cursor and the connection\n",
    "cur.close()\n",
    "conn.close()"
   ]
  },
  {
   "cell_type": "code",
   "execution_count": 70,
   "metadata": {},
   "outputs": [
    {
     "name": "stdout",
     "output_type": "stream",
     "text": [
      "All tables have been dropped.\n"
     ]
    }
   ],
   "source": [
    "# For oms\n",
    "# Assuming the database is already created\n",
    "# Read the db credentials from the config file\n",
    "config = configparser.ConfigParser()\n",
    "config.read('db_config.ini')\n",
    "\n",
    "# Connect to the database\n",
    "conn = pg.connect(\n",
    "    dbname = 'etl_proj_oms',\n",
    "    user = config['database']['user'],\n",
    "    password = config['database']['password'],\n",
    "    host = config['database']['host'],\n",
    "    port = config['database']['port']\n",
    ")\n",
    "\n",
    "# Create a cursor object\n",
    "cur = conn.cursor()\n",
    "\n",
    "# Get the list of all tables in the schema\n",
    "cur.execute(\"\"\"\n",
    "    SELECT table_name\n",
    "    FROM information_schema.tables\n",
    "    WHERE table_schema = 'public';\n",
    "\"\"\")\n",
    "tables = cur.fetchall()\n",
    "\n",
    "# Drop all tables in the schema\n",
    "for table in tables:\n",
    "    cur.execute(sql.SQL('DROP TABLE {} CASCADE;').format(sql.Identifier(table[0])))\n",
    "\n",
    "# Commit the changes\n",
    "conn.commit()\n",
    "\n",
    "print('All tables have been dropped.')\n"
   ]
  },
  {
   "cell_type": "code",
   "execution_count": 71,
   "metadata": {},
   "outputs": [
    {
     "name": "stdout",
     "output_type": "stream",
     "text": [
      "Tables created in the schema:\n",
      "order\n",
      "item\n"
     ]
    }
   ],
   "source": [
    "# Create the tables\n",
    "cur.execute(\"\"\"\n",
    "    CREATE TABLE \"order\" (\n",
    "        order_id SERIAL,\n",
    "        parcel_id INTEGER,\n",
    "        checkout_id INTEGER NOT NULL,\n",
    "        buyer_id INTEGER NOT NULL,\n",
    "        shop_id INTEGER NOT NULL,\n",
    "        payment_option_id INTEGER NOT NULL,\n",
    "        shipping_channel_id INTEGER NOT NULL,\n",
    "        delivery_detail_id INTEGER NOT NULL,\n",
    "        order_created_time TIMESTAMP NOT NULL,\n",
    "        ship_by_date TIMESTAMP NOT NULL,\n",
    "        shipping_fee DECIMAL(10, 2) NOT NULL,\n",
    "        gmv DECIMAL(10, 2) NOT NULL,\n",
    "        wh_id INTEGER NOT NULL\n",
    "    );\n",
    "    \"\"\")\n",
    "\n",
    "cur.execute(\"\"\"\n",
    "    CREATE TABLE item (\n",
    "        order_id INTEGER NOT NULL,\n",
    "        sku_id INTEGER NOT NULL,\n",
    "        shop_id INTEGER NOT NULL,\n",
    "        qty INTEGER NOT NULL,\n",
    "        gmv DECIMAL(10, 2) NOT NULL  \n",
    "    );\n",
    "    \"\"\")    \n",
    "\n",
    "# Commit the changes\n",
    "conn.commit()\n",
    "\n",
    "# Check the tables\n",
    "cur.execute(\"\"\"\n",
    "    SELECT table_name\n",
    "    FROM information_schema.tables\n",
    "    WHERE table_schema = 'public';\n",
    "\"\"\")\n",
    "tables = cur.fetchall()\n",
    "print('Tables created in the schema:')\n",
    "for table in tables:\n",
    "    print(table[0])\n"
   ]
  },
  {
   "cell_type": "code",
   "execution_count": 72,
   "metadata": {},
   "outputs": [
    {
     "name": "stdout",
     "output_type": "stream",
     "text": [
      "All tables have been dropped.\n"
     ]
    }
   ],
   "source": [
    "# For ums\n",
    "# Assuming the database is already created\n",
    "# Read the db credentials from the config file\n",
    "config = configparser.ConfigParser()\n",
    "config.read('db_config.ini')\n",
    "\n",
    "# Connect to the database\n",
    "conn = pg.connect(\n",
    "    dbname = 'etl_proj_ums',\n",
    "    user = config['database']['user'],\n",
    "    password = config['database']['password'],\n",
    "    host = config['database']['host'],\n",
    "    port = config['database']['port']\n",
    ")\n",
    "\n",
    "# Create a cursor object\n",
    "cur = conn.cursor()\n",
    "\n",
    "# Get the list of all tables in the schema\n",
    "cur.execute(\"\"\"\n",
    "    SELECT table_name\n",
    "    FROM information_schema.tables\n",
    "    WHERE table_schema = 'public';\n",
    "\"\"\")\n",
    "tables = cur.fetchall()\n",
    "\n",
    "# Drop all tables in the schema\n",
    "for table in tables:\n",
    "    cur.execute(sql.SQL('DROP TABLE {} CASCADE;').format(sql.Identifier(table[0])))\n",
    "\n",
    "# Commit the changes\n",
    "conn.commit()\n",
    "\n",
    "print('All tables have been dropped.')\n"
   ]
  },
  {
   "cell_type": "code",
   "execution_count": 73,
   "metadata": {},
   "outputs": [
    {
     "name": "stdout",
     "output_type": "stream",
     "text": [
      "Tables created in the schema:\n",
      "user\n",
      "seller\n"
     ]
    }
   ],
   "source": [
    "# Create the tables\n",
    "cur.execute(\"\"\"\n",
    "    CREATE TABLE \"user\" (\n",
    "        user_id SERIAL,\n",
    "        user_name VARCHAR(255) NOT NULL,\n",
    "        password VARCHAR(255) NOT NULL,\n",
    "        name_first VARCHAR(255) NOT NULL,\n",
    "        name_middle VARCHAR(255),\n",
    "        name_last VARCHAR(255) NOT NULL,\n",
    "        sex VARCHAR(1) NOT NULL,\n",
    "        birthdate DATE NOT NULL,\n",
    "        present_address_region VARCHAR(255) NOT NULL,\n",
    "        present_address_city VARCHAR(255) NOT NULL,\n",
    "        present_address_brgy VARCHAR(255) NOT NULL,\n",
    "        email VARCHAR(255) NOT NULL,\n",
    "        contact_number VARCHAR(255) NOT NULL,\n",
    "        account_create_time TIMESTAMP NOT NULL,\n",
    "        is_active BOOLEAN NOT NULL,\n",
    "        last_modified_time TIMESTAMP NOT NULL\n",
    "    );\n",
    "    \"\"\")\n",
    "\n",
    "cur.execute(\"\"\"\n",
    "    CREATE TABLE seller (\n",
    "        user_id INTEGER NOT NULL,\n",
    "        shop_id SERIAL,\n",
    "        shop_name VARCHAR(255) NOT NULL,\n",
    "        shop_category VARCHAR(255) NOT NULL,\n",
    "        shop_create_time TIMESTAMP NOT NULL,\n",
    "        is_active BOOLEAN NOT NULL,\n",
    "        last_modified_time TIMESTAMP,\n",
    "        is_wh BOOLEAN NOT NULL\n",
    "    );\n",
    "    \"\"\")    \n",
    "\n",
    "# Commit the changes\n",
    "conn.commit()\n",
    "\n",
    "# Check the tables\n",
    "cur.execute(\"\"\"\n",
    "    SELECT table_name\n",
    "    FROM information_schema.tables\n",
    "    WHERE table_schema = 'public';\n",
    "\"\"\")\n",
    "tables = cur.fetchall()\n",
    "print('Tables created in the schema:')\n",
    "for table in tables:\n",
    "    print(table[0])\n"
   ]
  }
 ],
 "metadata": {
  "kernelspec": {
   "display_name": "Python 3",
   "language": "python",
   "name": "python3"
  },
  "language_info": {
   "codemirror_mode": {
    "name": "ipython",
    "version": 3
   },
   "file_extension": ".py",
   "mimetype": "text/x-python",
   "name": "python",
   "nbconvert_exporter": "python",
   "pygments_lexer": "ipython3",
   "version": "3.11.5"
  }
 },
 "nbformat": 4,
 "nbformat_minor": 2
}
